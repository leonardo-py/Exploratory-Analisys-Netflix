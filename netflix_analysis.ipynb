{
 "cells": [
  {
   "cell_type": "code",
   "execution_count": null,
   "id": "aa9a3e29",
   "metadata": {},
   "outputs": [],
   "source": [
    "import pandas as pd"
   ]
  },
  {
   "cell_type": "code",
   "execution_count": null,
   "id": "f8b770b4",
   "metadata": {},
   "outputs": [],
   "source": [
    "base = pd.read_csv('netflix daily top 10.csv')"
   ]
  },
  {
   "cell_type": "code",
   "execution_count": null,
   "id": "1ffb3ad0",
   "metadata": {
    "scrolled": true
   },
   "outputs": [],
   "source": [
    "base.head()"
   ]
  },
  {
   "cell_type": "code",
   "execution_count": null,
   "id": "b42e9b5b",
   "metadata": {},
   "outputs": [],
   "source": [
    "base.tail()"
   ]
  },
  {
   "cell_type": "code",
   "execution_count": null,
   "id": "d2c30ba6",
   "metadata": {},
   "outputs": [],
   "source": [
    "base.info()"
   ]
  },
  {
   "cell_type": "code",
   "execution_count": null,
   "id": "1f8540e6",
   "metadata": {},
   "outputs": [],
   "source": [
    "#base.shape"
   ]
  },
  {
   "cell_type": "code",
   "execution_count": null,
   "id": "8ee22fbd",
   "metadata": {},
   "outputs": [],
   "source": [
    "base['Netflix Exclusive'].value_counts()"
   ]
  },
  {
   "cell_type": "code",
   "execution_count": null,
   "id": "bd55fee7",
   "metadata": {},
   "outputs": [],
   "source": [
    "base['Netflix Exclusive'].isnull().sum()"
   ]
  },
  {
   "cell_type": "code",
   "execution_count": null,
   "id": "f818370e",
   "metadata": {},
   "outputs": [],
   "source": [
    "base[['Netflix Exclusive']] = base[['Netflix Exclusive']].fillna('No')"
   ]
  },
  {
   "cell_type": "code",
   "execution_count": null,
   "id": "d024909d",
   "metadata": {},
   "outputs": [],
   "source": [
    "base.info()"
   ]
  },
  {
   "cell_type": "code",
   "execution_count": null,
   "id": "46bf7b1a",
   "metadata": {},
   "outputs": [],
   "source": [
    "inicio = pd.to_datetime(base['As of']).dt.date.min()\n",
    "fim = pd.to_datetime(base['As of']).dt.date.max()\n",
    "print(inicio)\n",
    "print(fim)"
   ]
  },
  {
   "cell_type": "code",
   "execution_count": null,
   "id": "cb316922",
   "metadata": {},
   "outputs": [],
   "source": [
    "len(base['Title'].unique())"
   ]
  },
  {
   "cell_type": "code",
   "execution_count": null,
   "id": "2bb515bd",
   "metadata": {},
   "outputs": [],
   "source": [
    "base.describe()"
   ]
  },
  {
   "cell_type": "code",
   "execution_count": null,
   "id": "e5b211d7",
   "metadata": {},
   "outputs": [],
   "source": [
    "base.plot(kind = 'box', figsize = (10,6), subplots = True)"
   ]
  },
  {
   "cell_type": "code",
   "execution_count": null,
   "id": "41fd9f84",
   "metadata": {},
   "outputs": [],
   "source": [
    "base[base['Days In Top 10'] >= 100]"
   ]
  },
  {
   "cell_type": "code",
   "execution_count": null,
   "id": "794307bf",
   "metadata": {},
   "outputs": [],
   "source": [
    "base.Title.value_counts()"
   ]
  },
  {
   "cell_type": "code",
   "execution_count": null,
   "id": "7cc5dbc9",
   "metadata": {},
   "outputs": [],
   "source": [
    "#top 10 dos conteúdos que permaneceram no top 10 por mais tempo\n",
    "top_base = base.groupby(['Title']).sum().sort_values(by = 'Days In Top 10', ascending=False).head(10)\n",
    "top_base"
   ]
  },
  {
   "cell_type": "code",
   "execution_count": null,
   "id": "db96d6ea",
   "metadata": {},
   "outputs": [],
   "source": [
    "base.Title.value_counts().head(10).plot(kind = 'bar', xlabel ='Títulos', ylabel = 'Contagem de valores')"
   ]
  },
  {
   "cell_type": "code",
   "execution_count": null,
   "id": "4b23a9a2",
   "metadata": {},
   "outputs": [],
   "source": [
    "base.Type.value_counts().plot(kind='bar', xlabel = 'Tipo', ylabel = 'Contagem de Valores')"
   ]
  },
  {
   "cell_type": "code",
   "execution_count": null,
   "id": "d631f0bc",
   "metadata": {},
   "outputs": [],
   "source": [
    "base['Viewership Score'].hist()"
   ]
  }
 ],
 "metadata": {
  "kernelspec": {
   "display_name": "Python 3 (ipykernel)",
   "language": "python",
   "name": "python3"
  },
  "language_info": {
   "codemirror_mode": {
    "name": "ipython",
    "version": 3
   },
   "file_extension": ".py",
   "mimetype": "text/x-python",
   "name": "python",
   "nbconvert_exporter": "python",
   "pygments_lexer": "ipython3",
   "version": "3.9.13"
  }
 },
 "nbformat": 4,
 "nbformat_minor": 5
}
